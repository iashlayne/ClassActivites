{
  "nbformat": 4,
  "nbformat_minor": 0,
  "metadata": {
    "colab": {
      "provenance": [],
      "authorship_tag": "ABX9TyO7OnAv7jcapVBk2U4VMCGx",
      "include_colab_link": true
    },
    "kernelspec": {
      "name": "python3",
      "display_name": "Python 3"
    },
    "language_info": {
      "name": "python"
    }
  },
  "cells": [
    {
      "cell_type": "markdown",
      "metadata": {
        "id": "view-in-github",
        "colab_type": "text"
      },
      "source": [
        "<a href=\"https://colab.research.google.com/github/iashlayne/ClassActivites/blob/main/Chapter%201/Exercise_5.ipynb\" target=\"_parent\"><img src=\"https://colab.research.google.com/assets/colab-badge.svg\" alt=\"Open In Colab\"/></a>"
      ]
    },
    {
      "cell_type": "code",
      "execution_count": 1,
      "metadata": {
        "colab": {
          "base_uri": "https://localhost:8080/"
        },
        "id": "psVWYLkHiA21",
        "outputId": "86de3feb-d3e2-49de-a73e-cb3c7307b686"
      },
      "outputs": [
        {
          "output_type": "stream",
          "name": "stdout",
          "text": [
            "Input the radius of circle:5\n",
            "The area of the circle with radius;5.0is:78.53981633974483\n"
          ]
        }
      ],
      "source": [
        "# The calculation of Radius of circle\n",
        "\n",
        "from math import pi \n",
        "\n",
        "radius = float(input(\"Input the radius of circle:\"))\n",
        "\n",
        "print(\"The area of the circle with radius;\" + str(radius) + \"is:\" + str(pi * radius**2))"
      ]
    }
  ]
}