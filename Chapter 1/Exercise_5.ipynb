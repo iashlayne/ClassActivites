{
  "nbformat": 4,
  "nbformat_minor": 0,
  "metadata": {
    "colab": {
      "provenance": [],
      "authorship_tag": "ABX9TyPed+9haO3EHAtKrrnq8gOX",
      "include_colab_link": true
    },
    "kernelspec": {
      "name": "python3",
      "display_name": "Python 3"
    },
    "language_info": {
      "name": "python"
    }
  },
  "cells": [
    {
      "cell_type": "markdown",
      "metadata": {
        "id": "view-in-github",
        "colab_type": "text"
      },
      "source": [
        "<a href=\"https://colab.research.google.com/github/iashlayne/ClassActivites/blob/main/Chapter%201/Exercise_5.ipynb\" target=\"_parent\"><img src=\"https://colab.research.google.com/assets/colab-badge.svg\" alt=\"Open In Colab\"/></a>"
      ]
    },
    {
      "cell_type": "code",
      "execution_count": null,
      "metadata": {
        "id": "2CSQxXOdhPGN"
      },
      "outputs": [],
      "source": [
        "# The calculation of Radius of circle\n",
        "\n",
        "from math import pi \n",
        "\n",
        "radius = float(input(\"Input the radius of circle:\"))\n",
        "\n",
        "print(\"The area of the circle with radius;\" + str(radius) + \"is:\" + str(pi * radius**2))\n",
        "\n"
      ]
    }
  ]
}