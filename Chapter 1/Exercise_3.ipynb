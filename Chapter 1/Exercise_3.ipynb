{
  "cells": [
    {
      "cell_type": "markdown",
      "metadata": {
        "colab_type": "text",
        "id": "view-in-github"
      },
      "source": [
        "<a href=\"https://colab.research.google.com/github/iashlayne/ClassActivites/blob/main/Chapter%201/Exercise_3.ipynb\" target=\"_parent\"><img src=\"https://colab.research.google.com/assets/colab-badge.svg\" alt=\"Open In Colab\"/></a>"
      ]
    },
    {
      "cell_type": "code",
      "execution_count": null,
      "metadata": {
        "colab": {
          "base_uri": "https://localhost:8080/"
        },
        "id": "-OO4Lvejn6tr",
        "outputId": "482037d7-6c67-4665-955e-e827fefba86f"
      },
      "outputs": [
        {
          "ename": "",
          "evalue": "",
          "output_type": "error",
          "traceback": [
            "\u001b[1;31mJupyter cannot be started. Error attempting to locate Jupyter: Running cells with 'Python 2.7.18 64-bit' requires jupyter and notebook package.\n",
            "\u001b[1;31mRun the following command to install 'jupyter and notebook' into the Python environment. \n",
            "\u001b[1;31mCommand: 'python -m pip install jupyter notebook -U\n",
            "\u001b[1;31mor\n",
            "\u001b[1;31mconda install jupyter notebook -U'\n",
            "\u001b[1;31mClick <a href='https://aka.ms/installJupyterForVSCode'>here</a> for more info."
          ]
        }
      ],
      "source": [
        "# In here, we are importing the Python Library of TimeZones\n",
        "import pytz\n",
        "timezone = pytz.timezone('Asia/Dubai')\n",
        "\n",
        "# import the date\n",
        "from datetime import date\n",
        "\n",
        "# create a variable date and assign today's date\n",
        "today = date.today()\n",
        "# print today's date\n",
        "print(\"Today's date:\", today)\n",
        "\n",
        "#dd/mm/yy\n",
        "# we declare a variabl d1 and assign the formatted date from today using this format \"%d/%m/%y\"\n",
        "d1 = today.strftime(\"%d/%m/%y\")\n",
        "# print d1 = value of d1\n",
        "print(\"d1 =\", d1 )\n",
        "\n",
        "# we declare a variabl d1 and assign the formatted date from today using this format \"\"%B %d, %Y\"\"\n",
        "d2 = today.strftime(\"%B %d, %Y\")\n",
        "print(\"d2 =\" , d2 )\n",
        "\n",
        "# mm/dd/y\n",
        "d3 = today.strftime(\"%m/%d/%y\")\n",
        "print(\"d3 =\", d3)\n",
        "\n",
        "# Month abbreviation, day and year\t\n",
        "d4 = today.strftime(\"%b-%d-%Y\")\n",
        "print(\"d4 =\", d4)\n",
        "\n",
        "from datetime import datetime\n",
        "\n",
        "now = datetime.now(tz = timezone)\n",
        "\n",
        "print(\"now =\", now)\n",
        "\n",
        "dt_string = now.strftime(\"%d/%m/%Y %H;%M;%S\")\n",
        "print(\"date and time =\", dt_string)"
      ]
    }
  ],
  "metadata": {
    "colab": {
      "authorship_tag": "ABX9TyNBAxcAvvsnbg5CZmT/Nhbn",
      "collapsed_sections": [],
      "include_colab_link": true,
      "provenance": []
    },
    "kernelspec": {
      "display_name": "Python 2.7.18 64-bit",
      "language": "python",
      "name": "python3"
    },
    "language_info": {
      "name": "python",
      "version": "2.7.18"
    },
    "vscode": {
      "interpreter": {
        "hash": "545e036c4b32438aced1f6b3c8d38ca151d9c36189e05839cb0aa568fda70ddd"
      }
    }
  },
  "nbformat": 4,
  "nbformat_minor": 0
}
