{
  "nbformat": 4,
  "nbformat_minor": 0,
  "metadata": {
    "colab": {
      "provenance": [],
      "authorship_tag": "ABX9TyMWmkISdt68NDvQgpzL8jcg",
      "include_colab_link": true
    },
    "kernelspec": {
      "name": "python3",
      "display_name": "Python 3"
    },
    "language_info": {
      "name": "python"
    }
  },
  "cells": [
    {
      "cell_type": "markdown",
      "metadata": {
        "id": "view-in-github",
        "colab_type": "text"
      },
      "source": [
        "<a href=\"https://colab.research.google.com/github/iashlayne/ClassActivites/blob/main/Chapter%201/Exercise_3.ipynb\" target=\"_parent\"><img src=\"https://colab.research.google.com/assets/colab-badge.svg\" alt=\"Open In Colab\"/></a>"
      ]
    },
    {
      "cell_type": "code",
      "execution_count": null,
      "metadata": {
        "id": "NUS4ql0UYmE-"
      },
      "outputs": [],
      "source": [
        "from datetime import date\n",
        "\n",
        "today = date.today()\n",
        "print(\"Today's date:\", today)\n",
        "\n",
        "#dd/mm/yy\n",
        "d1 = today.strftime(\"%d/%m/%y\")\n",
        "print(\"d1 =\", d1 )\n",
        "\n",
        "#Textual month, day and year\n",
        "d2 = today.strftime(\"%B %d, %Y\")\n",
        "print(\"d2 =\" , d2 )\n",
        "\n",
        "# mm/dd/y\n",
        "d3 = today.strftime(\"%m/%d/%y\")\n",
        "print(\"d3 =\", d3)\n",
        "\n",
        "# Month abbreviation, day and year\t\n",
        "d4 = today.strftime(\"%b-%d-%Y\")\n",
        "print(\"d4 =\", d4)\n",
        "\n",
        "from datetime import datetime\n",
        "\n",
        "now = datetime.now()\n",
        "\n",
        "print(\"now =\", now)\n",
        "\n",
        "dt_string = now.strftime(\"%d/%m/%Y %H;%M;%S\")\n",
        "print(\"date and time =\", dt_string)\n"
      ]
    }
  ]
}