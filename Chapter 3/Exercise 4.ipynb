{
  "nbformat": 4,
  "nbformat_minor": 0,
  "metadata": {
    "colab": {
      "provenance": [],
      "authorship_tag": "ABX9TyMl036mKuiGpwJBI2D7oIEG",
      "include_colab_link": true
    },
    "kernelspec": {
      "name": "python3",
      "display_name": "Python 3"
    },
    "language_info": {
      "name": "python"
    }
  },
  "cells": [
    {
      "cell_type": "markdown",
      "metadata": {
        "id": "view-in-github",
        "colab_type": "text"
      },
      "source": [
        "<a href=\"https://colab.research.google.com/github/iashlayne/ClassActivites/blob/main/Chapter%203/Exercise%204.ipynb\" target=\"_parent\"><img src=\"https://colab.research.google.com/assets/colab-badge.svg\" alt=\"Open In Colab\"/></a>"
      ]
    },
    {
      "cell_type": "code",
      "execution_count": 7,
      "metadata": {
        "colab": {
          "base_uri": "https://localhost:8080/"
        },
        "id": "nbkTDmxUBt12",
        "outputId": "259da6d8-afec-47b4-ce92-4963b4f07ce3"
      },
      "outputs": [
        {
          "output_type": "stream",
          "name": "stdout",
          "text": [
            "Julie\n",
            "Bryan\n",
            "Cora\n",
            "Julie, we are inviting you for dinner tomorrow.\n",
            "Bryan, we are inviting you for dinner tomorrow.\n",
            "Cora, we are inviting you for dinner tomorrow.\n"
          ]
        }
      ],
      "source": [
        "# Exercise 4: Guest List\n",
        "\n",
        "# making the guest list\n",
        "guestList = ['Julie', 'Bryan', 'Cora']\n",
        "\n",
        "print(guestList[0])  \n",
        "print(guestList[1])  \n",
        "print(guestList[2])\n",
        "\n",
        "# printing the guest list inviting for the dinner tomorrow\n",
        "guest = guestList[0].title()\n",
        "gst = guest + \", we are inviting you for dinner tomorrow.\"\n",
        "print(gst)\n",
        "\n",
        "guest = guestList[1].title()\n",
        "gst = guest + \", we are inviting you for dinner tomorrow.\"\n",
        "print(gst)\n",
        "\n",
        "guest = guestList[2].title()\n",
        "gst = guest + \", we are inviting you for dinner tomorrow.\"\n",
        "print(gst)\n",
        "\n",
        "\n"
      ]
    }
  ]
}