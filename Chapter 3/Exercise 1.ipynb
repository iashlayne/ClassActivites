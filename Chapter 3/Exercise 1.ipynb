{
  "nbformat": 4,
  "nbformat_minor": 0,
  "metadata": {
    "colab": {
      "provenance": [],
      "authorship_tag": "ABX9TyOP8qBFuiu1Wg456eSEuAlJ",
      "include_colab_link": true
    },
    "kernelspec": {
      "name": "python3",
      "display_name": "Python 3"
    },
    "language_info": {
      "name": "python"
    }
  },
  "cells": [
    {
      "cell_type": "markdown",
      "metadata": {
        "id": "view-in-github",
        "colab_type": "text"
      },
      "source": [
        "<a href=\"https://colab.research.google.com/github/iashlayne/ClassActivites/blob/main/Chapter%203/Exercise%201.ipynb\" target=\"_parent\"><img src=\"https://colab.research.google.com/assets/colab-badge.svg\" alt=\"Open In Colab\"/></a>"
      ]
    },
    {
      "cell_type": "code",
      "execution_count": 3,
      "metadata": {
        "colab": {
          "base_uri": "https://localhost:8080/"
        },
        "id": "nbkTDmxUBt12",
        "outputId": "d7db33d9-ee1c-45e7-f65f-1bcc1587b5f1"
      },
      "outputs": [
        {
          "output_type": "stream",
          "name": "stdout",
          "text": [
            "Patricia\n",
            "Carl\n",
            "Rafael\n",
            "Kristian\n"
          ]
        }
      ],
      "source": [
        "# Exercise 1: Names\n",
        "\n",
        "#Making the name's list\n",
        "namesList = ['Patricia', 'Carl', 'Rafael', 'Kristian']\n",
        "\n",
        "#printing the name's list\n",
        "print(namesList[0])  \n",
        "print(namesList[1])  \n",
        "print(namesList[2])\n",
        "print(namesList[3])\n"
      ]
    }
  ]
}