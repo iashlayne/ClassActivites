{
  "nbformat": 4,
  "nbformat_minor": 0,
  "metadata": {
    "colab": {
      "provenance": [],
      "authorship_tag": "ABX9TyP1HOsOlMQsui8ZkmpkzREi",
      "include_colab_link": true
    },
    "kernelspec": {
      "name": "python3",
      "display_name": "Python 3"
    },
    "language_info": {
      "name": "python"
    }
  },
  "cells": [
    {
      "cell_type": "markdown",
      "metadata": {
        "id": "view-in-github",
        "colab_type": "text"
      },
      "source": [
        "<a href=\"https://colab.research.google.com/github/iashlayne/ClassActivites/blob/main/Chapter%203/Exercise%205.ipynb\" target=\"_parent\"><img src=\"https://colab.research.google.com/assets/colab-badge.svg\" alt=\"Open In Colab\"/></a>"
      ]
    },
    {
      "cell_type": "code",
      "execution_count": 1,
      "metadata": {
        "colab": {
          "base_uri": "https://localhost:8080/"
        },
        "id": "A5weEeWZD6Ce",
        "outputId": "89dd8991-0cbd-4d82-f124-a0c40dd0f52a"
      },
      "outputs": [
        {
          "output_type": "stream",
          "name": "stdout",
          "text": [
            "Julie\n",
            "Bryan\n",
            "Cora\n",
            "Julie, we are inviting you for dinner tomorrow.\n",
            "Bryan, we are inviting you for dinner tomorrow.\n",
            "Cora, we are inviting you for dinner tomorrow.\n",
            "\n",
            "Cora cannot come tonight instead she suggested to invite Samara\n",
            "\n",
            "Julie, we are inviting you for dinner tomorrow.\n",
            "Bryan, we are inviting you for dinner tomorrow.\n",
            "Samara, we are inviting you for dinner tomorrow.\n"
          ]
        }
      ],
      "source": [
        "# Exercise 5: Change Guest List\n",
        "\n",
        "#making guestlist\n",
        "guestList = ['Julie', 'Bryan', 'Cora']\n",
        "\n",
        "print(guestList[0])  \n",
        "print(guestList[1])  \n",
        "print(guestList[2])\n",
        "\n",
        "\n",
        "# Sending invitations for dinner\n",
        "\n",
        "#printing the guestlist for dinner\n",
        "guest = guestList[0].title()\n",
        "gst = guest + \", we are inviting you for dinner tomorrow.\"\n",
        "print(gst)\n",
        "\n",
        "guest = guestList[1].title()\n",
        "gst = guest + \", we are inviting you for dinner tomorrow.\"\n",
        "print(gst)\n",
        "\n",
        "guest = guestList[2].title()\n",
        "gst = guest + \", we are inviting you for dinner tomorrow.\"\n",
        "print(gst)\n",
        "\n",
        "\n",
        "guest = guestList[2].title()\n",
        "print(\"\\n\" + guest +\n",
        "      \" cannot come tonight instead she suggested to invite Samara\")\n",
        "\n",
        "#Cora cannot go, instead she invited Samara\n",
        "del (guestList[2])\n",
        "\n",
        "#Adding a new guest\n",
        "guestList.insert(2, 'Samara')\n",
        "\n",
        "# printing the guestlist and sending the invitations again\n",
        "\n",
        "guest = guestList[0].title()\n",
        "gst = guest + \", we are inviting you for dinner tomorrow.\"\n",
        "print(\"\\n\" + gst)\n",
        "\n",
        "guest = guestList[1].title()\n",
        "gst = guest + \", we are inviting you for dinner tomorrow.\"\n",
        "print(gst)\n",
        "\n",
        "guest = guestList[2].title()\n",
        "gst = guest + \", we are inviting you for dinner tomorrow.\"\n",
        "print(gst)"
      ]
    }
  ]
}