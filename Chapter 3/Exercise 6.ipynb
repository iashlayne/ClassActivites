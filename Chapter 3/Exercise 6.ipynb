{
  "nbformat": 4,
  "nbformat_minor": 0,
  "metadata": {
    "colab": {
      "provenance": [],
      "authorship_tag": "ABX9TyMiecN/nFZFwnlFTXRnuD7A",
      "include_colab_link": true
    },
    "kernelspec": {
      "name": "python3",
      "display_name": "Python 3"
    },
    "language_info": {
      "name": "python"
    }
  },
  "cells": [
    {
      "cell_type": "markdown",
      "metadata": {
        "id": "view-in-github",
        "colab_type": "text"
      },
      "source": [
        "<a href=\"https://colab.research.google.com/github/iashlayne/ClassActivites/blob/main/Chapter%203/Exercise%206.ipynb\" target=\"_parent\"><img src=\"https://colab.research.google.com/assets/colab-badge.svg\" alt=\"Open In Colab\"/></a>"
      ]
    },
    {
      "cell_type": "code",
      "execution_count": 12,
      "metadata": {
        "colab": {
          "base_uri": "https://localhost:8080/"
        },
        "id": "GarZu-IwYKF0",
        "outputId": "af8d4ce1-28fc-463c-f6c3-0232329a56e3"
      },
      "outputs": [
        {
          "output_type": "stream",
          "name": "stdout",
          "text": [
            "Julie\n",
            "Bryan\n",
            "Cora\n",
            "Joel\n",
            "Julie, we are inviting you for dinner tomorrow.\n",
            "Bryan, we are inviting you for dinner tomorrow.\n",
            "Cora, we are inviting you for dinner tomorrow.\n",
            "Joel, we are inviting you for dinner tomorrow.\n",
            "\n",
            "Cora cannot come tonight instead she suggested to invite Samara\n",
            "\n",
            "Julie, we are inviting you for dinner tomorrow.\n",
            "Bryan, we are inviting you for dinner tomorrow.\n",
            "Samara, we are inviting you for dinner tomorrow.\n",
            "Joel, we are inviting you for dinner tomorrow.\n",
            "\n",
            "Sorry, we can only have space for two people.\n",
            "Apologies, Joel but we cannot invite you to dinner as some tables did not arrive on time.\n",
            "Apologies, Samara but we cannot invite you to dinner as some tables did not arrive on time.\n",
            "\n",
            "Julie, we are inviting you for dinner tomorrow.\n",
            "Bryan, we are inviting you for dinner tomorrow.\n",
            "\n",
            "There are 0 records in the guest list.\n"
          ]
        }
      ],
      "source": [
        "# Exercise 5: Change Guest List\n",
        "\n",
        "#making guestlist\n",
        "guestList = ['Julie', 'Bryan', 'Cora','Joel']\n",
        "\n",
        "print(guestList[0])  \n",
        "print(guestList[1])  \n",
        "print(guestList[2])\n",
        "print(guestList[3])\n",
        "\n",
        "\n",
        "# Sending invitations for dinner\n",
        "\n",
        "#printing the guestlist for dinner\n",
        "guest = guestList[0].title()\n",
        "gst = guest + \", we are inviting you for dinner tomorrow.\"\n",
        "print(gst)\n",
        "\n",
        "guest = guestList[1].title()\n",
        "gst = guest + \", we are inviting you for dinner tomorrow.\"\n",
        "print(gst)\n",
        "\n",
        "guest = guestList[2].title()\n",
        "gst = guest + \", we are inviting you for dinner tomorrow.\"\n",
        "print(gst)\n",
        "\n",
        "guest = guestList[3].title()\n",
        "gst = guest + \", we are inviting you for dinner tomorrow.\"\n",
        "print(gst)\n",
        "\n",
        "\n",
        "\n",
        "guest = guestList[2].title()\n",
        "print(\"\\n\" + guest +\n",
        "      \" cannot come tonight instead she suggested to invite Samara\")\n",
        "\n",
        "#Cora cannot go, instead she invited Samara\n",
        "del (guestList[2])\n",
        "\n",
        "#Adding a new guest\n",
        "guestList.insert(2, 'Samara')\n",
        "\n",
        "# printing the guestlist and sending the invitations again\n",
        "\n",
        "guest = guestList[0].title()\n",
        "gst = guest + \", we are inviting you for dinner tomorrow.\"\n",
        "print(\"\\n\" + gst)\n",
        "\n",
        "guest = guestList[1].title()\n",
        "gst = guest + \", we are inviting you for dinner tomorrow.\"\n",
        "print(gst)\n",
        "\n",
        "guest = guestList[2].title()\n",
        "gst = guest + \", we are inviting you for dinner tomorrow.\"\n",
        "print(gst)\n",
        "\n",
        "guest = guestList[3].title()\n",
        "gst = guest + \", we are inviting you for dinner tomorrow.\"\n",
        "print(gst)\n",
        "\n",
        "\n",
        "# the table won't arrive on time!\n",
        "\n",
        "print(\"\\nSorry, we can only have space for two people.\")\n",
        "\n",
        "name = guestList.pop()\n",
        "print(\"Apologies, \" + name.title() +\n",
        "      \" but we cannot invite you to dinner as some tables did not arrive on time.\")\n",
        "name = guestList.pop()\n",
        "print(\"Apologies, \" + name.title() +\n",
        "      \" but we cannot invite you to dinner as some tables did not arrive on time.\")\n",
        "\n",
        "\n",
        "# 2 out of 4 were removed, 2 more remaining, we need to invite them again to confirm\n",
        "\n",
        "guest = guestList[0].title()\n",
        "gst = guest + \", we are inviting you for dinner tomorrow.\"\n",
        "print(\"\\n\" + gst)\n",
        "\n",
        "guest = guestList[1].title()\n",
        "gst = guest + \", we are inviting you for dinner tomorrow.\"\n",
        "print(gst)\n",
        "\n",
        "\n",
        "del (guestList[1])\n",
        "del (guestList[0])\n",
        "\n",
        "#we are printing how many people are in the guestlist\n",
        "print(\"\\nThere are \" + str(len(guestList)) + \" records in the guest list.\",)\n",
        "# GuestList is empty"
      ]
    }
  ]
}