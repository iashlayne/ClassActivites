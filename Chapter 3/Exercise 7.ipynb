{
  "nbformat": 4,
  "nbformat_minor": 0,
  "metadata": {
    "colab": {
      "provenance": [],
      "authorship_tag": "ABX9TyO9LKWARjniDzBfR00morDX",
      "include_colab_link": true
    },
    "kernelspec": {
      "name": "python3",
      "display_name": "Python 3"
    },
    "language_info": {
      "name": "python"
    }
  },
  "cells": [
    {
      "cell_type": "markdown",
      "metadata": {
        "id": "view-in-github",
        "colab_type": "text"
      },
      "source": [
        "<a href=\"https://colab.research.google.com/github/iashlayne/ClassActivites/blob/main/Chapter%203/Exercise%207.ipynb\" target=\"_parent\"><img src=\"https://colab.research.google.com/assets/colab-badge.svg\" alt=\"Open In Colab\"/></a>"
      ]
    },
    {
      "cell_type": "code",
      "execution_count": 13,
      "metadata": {
        "colab": {
          "base_uri": "https://localhost:8080/"
        },
        "id": "GarZu-IwYKF0",
        "outputId": "87bd27c5-a37c-48a2-a3bc-902b44fe9efa"
      },
      "outputs": [
        {
          "output_type": "stream",
          "name": "stdout",
          "text": [
            "Original order:\n",
            "['United Kingdom', 'Georgia', 'France', 'Armenia', 'Maldives']\n",
            "\n",
            "Sorted Alphabetical:\n",
            "['Armenia', 'France', 'Georgia', 'Maldives', 'United Kingdom']\n",
            "\n",
            "Original order again:\n",
            "['United Kingdom', 'Georgia', 'France', 'Armenia', 'Maldives']\n",
            "\n",
            "Reverse alphabetical:\n",
            "['United Kingdom', 'Maldives', 'Georgia', 'France', 'Armenia']\n",
            "\n",
            "Original order:\n",
            "['United Kingdom', 'Georgia', 'France', 'Armenia', 'Maldives']\n",
            "\n",
            "Reversed:\n",
            "['Maldives', 'Armenia', 'France', 'Georgia', 'United Kingdom']\n",
            "\n",
            "Original order after another reverse:\n",
            "['United Kingdom', 'Georgia', 'France', 'Armenia', 'Maldives']\n",
            "\n",
            "Alphabetical\n",
            "['Armenia', 'France', 'Georgia', 'Maldives', 'United Kingdom']\n",
            "\n",
            "Reverse alphabetical\n",
            "['United Kingdom', 'Maldives', 'Georgia', 'France', 'Armenia']\n"
          ]
        }
      ],
      "source": [
        "# Exercise 7: Seeing the World\n",
        "\n",
        "countriesBucketList = ['United Kingdom', 'Georgia',\n",
        "                       'France', 'Armenia', 'Maldives']\n",
        "\n",
        "print(\"Original order:\")\n",
        "print(countriesBucketList)\n",
        "\n",
        "print(\"\\nSorted Alphabetical:\")\n",
        "print(sorted(countriesBucketList))\n",
        "\n",
        "print(\"\\nOriginal order again:\")\n",
        "print(countriesBucketList)\n",
        "\n",
        "print(\"\\nReverse alphabetical:\")\n",
        "print(sorted(countriesBucketList, reverse=True))\n",
        "\n",
        "print(\"\\nOriginal order:\")\n",
        "print(countriesBucketList)\n",
        "\n",
        "print(\"\\nReversed:\")\n",
        "countriesBucketList.reverse()\n",
        "print(countriesBucketList)\n",
        "\n",
        "print(\"\\nOriginal order after another reverse:\")\n",
        "countriesBucketList.reverse()\n",
        "print(countriesBucketList)\n",
        "\n",
        "print(\"\\nAlphabetical\")\n",
        "countriesBucketList.sort()\n",
        "print(countriesBucketList)\n",
        "\n",
        "print(\"\\nReverse alphabetical\")\n",
        "countriesBucketList.sort(reverse=True)\n",
        "print(countriesBucketList)"
      ]
    }
  ]
}