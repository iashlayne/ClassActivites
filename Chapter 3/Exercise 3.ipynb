{
  "nbformat": 4,
  "nbformat_minor": 0,
  "metadata": {
    "colab": {
      "provenance": [],
      "authorship_tag": "ABX9TyNBK9L7WT70jOGHjPBo5LhA",
      "include_colab_link": true
    },
    "kernelspec": {
      "name": "python3",
      "display_name": "Python 3"
    },
    "language_info": {
      "name": "python"
    }
  },
  "cells": [
    {
      "cell_type": "markdown",
      "metadata": {
        "id": "view-in-github",
        "colab_type": "text"
      },
      "source": [
        "<a href=\"https://colab.research.google.com/github/iashlayne/ClassActivites/blob/main/Chapter%203/Exercise%203.ipynb\" target=\"_parent\"><img src=\"https://colab.research.google.com/assets/colab-badge.svg\" alt=\"Open In Colab\"/></a>"
      ]
    },
    {
      "cell_type": "code",
      "execution_count": 6,
      "metadata": {
        "colab": {
          "base_uri": "https://localhost:8080/"
        },
        "id": "nbkTDmxUBt12",
        "outputId": "3830290b-804e-4055-808a-76b4129c278d"
      },
      "outputs": [
        {
          "output_type": "stream",
          "name": "stdout",
          "text": [
            "Jeep Rubicon\n",
            "Toyota Land Cruiser\n",
            "Toyota Camry\n",
            "GT 86\n",
            "I used to dream about owning a Jeep Rubicon.\n",
            "I love driving a Toyota Land Cruiser because its too comfortable.\n",
            "My mom's 18th birthday gift to me was a Toyota Camry. Thank you mom, I love it!\n",
            "The Gt 86is a fun and fast car, yet very economical.\n"
          ]
        }
      ],
      "source": [
        "# Exercise 3: Your Own List\n",
        "\n",
        "\n",
        "# making the car's list\n",
        "carList = ['Jeep Rubicon', 'Toyota Land Cruiser', 'Toyota Camry', 'GT 86']\n",
        "\n",
        "print(carList[0]) \n",
        "print(carList[1])  \n",
        "print(carList[2])\n",
        "print(carList[3])\n",
        "\n",
        "# printing series of statements using the car's list written above\n",
        "statement1 = \"I used to dream about owning a \" + carList[0].title() + \".\"\n",
        "print(statement1)\n",
        "\n",
        "statement1 = \"I love driving a \" + \\\n",
        "    carList[1].title() + \" because its too comfortable.\"\n",
        "print(statement1)\n",
        "\n",
        "statement1 = \"My mom's 18th birthday gift to me was a \" + \\\n",
        "    carList[2].title() + \". Thank you mom, I love it!\"\n",
        "print(statement1)\n",
        "\n",
        "statement1 = \"The \" + carList[3].title() + \\\n",
        "    \"is a fun and fast car, yet very economical.\"\n",
        "print(statement1)\n"
      ]
    }
  ]
}