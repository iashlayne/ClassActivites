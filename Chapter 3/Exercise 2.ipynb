{
  "nbformat": 4,
  "nbformat_minor": 0,
  "metadata": {
    "colab": {
      "provenance": [],
      "authorship_tag": "ABX9TyPe1sRqFtrUzTEnBSBPYmJV",
      "include_colab_link": true
    },
    "kernelspec": {
      "name": "python3",
      "display_name": "Python 3"
    },
    "language_info": {
      "name": "python"
    }
  },
  "cells": [
    {
      "cell_type": "markdown",
      "metadata": {
        "id": "view-in-github",
        "colab_type": "text"
      },
      "source": [
        "<a href=\"https://colab.research.google.com/github/iashlayne/ClassActivites/blob/main/Chapter%203/Exercise%202.ipynb\" target=\"_parent\"><img src=\"https://colab.research.google.com/assets/colab-badge.svg\" alt=\"Open In Colab\"/></a>"
      ]
    },
    {
      "cell_type": "code",
      "execution_count": 5,
      "metadata": {
        "colab": {
          "base_uri": "https://localhost:8080/"
        },
        "id": "nbkTDmxUBt12",
        "outputId": "596bcd32-5dd9-4b7e-9eaa-6ae4f4992969"
      },
      "outputs": [
        {
          "output_type": "stream",
          "name": "stdout",
          "text": [
            "Patricia\n",
            "Carl\n",
            "Rafael\n",
            "Christian\n",
            "Hello, Patricia how are you doing?\n",
            "It's been a long time', Carl.\n",
            "Kamusta ka, Rafael?\n",
            "Have a great day, Christian!\n"
          ]
        }
      ],
      "source": [
        "# Exercise 2: Greetings\n",
        "\n",
        "# making the name's list\n",
        "namesList = ['Patricia', 'Carl', 'Rafael', 'Christian']\n",
        "\n",
        "print(namesList[0])  \n",
        "print(namesList[1])  \n",
        "print(namesList[2])\n",
        "print(namesList[3])\n",
        "\n",
        "# printing different message to each person on the name's list\n",
        "msg1 = \"Hello, \" + namesList[0].title() + \" how are you doing?\"\n",
        "print(msg1)\n",
        "\n",
        "msg1 = \"It's been a long time', \" + namesList[1].title() + \".\"\n",
        "print(msg1)\n",
        "\n",
        "msg1 = \"Kamusta ka, \" + namesList[2].title() + \"?\"\n",
        "print(msg1)\n",
        "\n",
        "msg1 = \"Have a great day, \" + namesList[3].title() + \"!\"\n",
        "print(msg1)\n",
        "\n"
      ]
    }
  ]
}