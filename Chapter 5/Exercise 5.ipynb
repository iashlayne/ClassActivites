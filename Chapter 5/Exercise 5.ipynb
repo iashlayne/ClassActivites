{
  "nbformat": 4,
  "nbformat_minor": 0,
  "metadata": {
    "colab": {
      "provenance": [],
      "authorship_tag": "ABX9TyMy/tHiesuCoxH9EBdmbCSt",
      "include_colab_link": true
    },
    "kernelspec": {
      "name": "python3",
      "display_name": "Python 3"
    },
    "language_info": {
      "name": "python"
    }
  },
  "cells": [
    {
      "cell_type": "markdown",
      "metadata": {
        "id": "view-in-github",
        "colab_type": "text"
      },
      "source": [
        "<a href=\"https://colab.research.google.com/github/iashlayne/ClassActivites/blob/main/Chapter%205/Exercise%205.ipynb\" target=\"_parent\"><img src=\"https://colab.research.google.com/assets/colab-badge.svg\" alt=\"Open In Colab\"/></a>"
      ]
    },
    {
      "cell_type": "code",
      "execution_count": 7,
      "metadata": {
        "colab": {
          "base_uri": "https://localhost:8080/"
        },
        "id": "04RUAH08Wyh1",
        "outputId": "7c234018-6668-4227-d894-9c1867cd422d"
      },
      "outputs": [
        {
          "output_type": "stream",
          "name": "stdout",
          "text": [
            "The Pet of Iashlayne, Bryan, and Julie\n",
            "\n",
            "Here's what I know about Paris:\n",
            "\tanimal_type: cat\n",
            "\tpet_name: Paris\n",
            "\tpet_owner: Iashlayne\n",
            "\tcolor: white\n",
            "\tfood: canned cat food\n",
            "\n",
            "Here's what I know about Sven:\n",
            "\tanimal_type: dog\n",
            "\tpet_name: Sven\n",
            "\tpet_owner: Bryan\n",
            "\tcolor: gray\n",
            "\tfood: meat\n",
            "\n",
            "Here's what I know about Angelo:\n",
            "\tanimal_type: turtle\n",
            "\tpet_name: Angelo\n",
            "\tpet_owner: Julie\n",
            "\tcolor: yellow green\n",
            "\tfood: worms\n"
          ]
        }
      ],
      "source": [
        "# Exercise 5: Pets\n",
        "\n",
        "print(\"The Pet of Iashlayne, Bryan, and Julie\")\n",
        "# we are doing empty dictionary to store pets and its details.\n",
        "pets = []\n",
        "\n",
        "# we are doing collection of individual pets, then store using .append(pet).\n",
        "pet = {\n",
        "    'animal_type': 'cat',\n",
        "    'pet_name': 'Paris',\n",
        "    'pet_owner': 'Iashlayne',\n",
        "    'color': 'white',\n",
        "    'food': 'canned cat food',\n",
        "}\n",
        "pets.append(pet)\n",
        "\n",
        "pet = {\n",
        "    'animal_type': 'dog',\n",
        "    'pet_name': 'Sven',\n",
        "    'pet_owner': 'Bryan',\n",
        "    'color': 'gray',\n",
        "    'food': 'meat',\n",
        "}\n",
        "pets.append(pet)\n",
        "\n",
        "pet = {\n",
        "    'animal_type': 'turtle',\n",
        "    'pet_name': 'Angelo',\n",
        "    'pet_owner': 'Julie',\n",
        "    'color': 'yellow green',\n",
        "    'food': 'worms',\n",
        "}\n",
        "pets.append(pet)\n",
        "\n",
        "#using loop to display the pets information.\n",
        "for pet in pets:\n",
        "    print(\"\\nHere's what I know about \" + pet['pet_name'].title() + \":\")\n",
        "    for key, value in pet.items():\n",
        "        print(\"\\t\" + key + \": \" + value)\n",
        "\n",
        "\n"
      ]
    }
  ]
}