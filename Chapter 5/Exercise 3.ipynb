{
  "nbformat": 4,
  "nbformat_minor": 0,
  "metadata": {
    "colab": {
      "provenance": [],
      "authorship_tag": "ABX9TyOiOxeYa8gdLrslhNXlqeBb",
      "include_colab_link": true
    },
    "kernelspec": {
      "name": "python3",
      "display_name": "Python 3"
    },
    "language_info": {
      "name": "python"
    }
  },
  "cells": [
    {
      "cell_type": "markdown",
      "metadata": {
        "id": "view-in-github",
        "colab_type": "text"
      },
      "source": [
        "<a href=\"https://colab.research.google.com/github/iashlayne/ClassActivites/blob/main/Chapter%205/Exercise%203.ipynb\" target=\"_parent\"><img src=\"https://colab.research.google.com/assets/colab-badge.svg\" alt=\"Open In Colab\"/></a>"
      ]
    },
    {
      "cell_type": "code",
      "execution_count": 3,
      "metadata": {
        "colab": {
          "base_uri": "https://localhost:8080/"
        },
        "id": "04RUAH08Wyh1",
        "outputId": "5aba512a-fea5-4a27-88a4-5f7ba7f42481"
      },
      "outputs": [
        {
          "output_type": "stream",
          "name": "stdout",
          "text": [
            "Glossary 2\n",
            "\n",
            "String: A string is a series of characters. In Python, anything inside quotes is a string\n",
            "\n",
            "Variable: A Python variable is a symbolic name that is a reference or pointer to an object. Once an object is assigned to a variable, you can refer to the object by that name. But the data itself is still contained within the object.\n",
            "\n",
            "Comment: Comments in Python are identified with a hash symbol, #, and extend to the end of the line. They are notes in a program that the Python interpreter ignores.\n",
            "\n",
            "List: Lists are used to store multiple items in a single variable. They are created by placing elements inside square brackets []\n",
            "\n",
            "Dictionary: Dictionaries are used to store data values in key:value pairs.\n",
            "\n",
            "Print(): The print() function literally prints the result to the screen.\n",
            "\n",
            "Bool: A bool or boolean is either true or false.\n",
            "\n",
            "Float: A numerical value with a decimal component.\n",
            "\n",
            "Arithmetic Operators: Arithmetic operator are used to perform common mathematical operations.\n",
            "\n",
            "Conditional Statement: A comparison between two values.\n"
          ]
        }
      ],
      "source": [
        "# Exercise 3: Glossary 2\n",
        "\n",
        "\n",
        "print(\"Glossary 2\")\n",
        "# we are storing dictionary values and its definition from the python lesson \n",
        "glossary = {\n",
        "    'string': 'A string is a series of characters. In Python, anything inside quotes is a string',\n",
        "    'variable': 'A Python variable is a symbolic name that is a reference or pointer to an object. Once an object is assigned to a variable, you can refer to the object by that name. But the data itself is still contained within the object.',\n",
        "    'comment': 'Comments in Python are identified with a hash symbol, #, and extend to the end of the line. They are notes in a program that the Python interpreter ignores.',\n",
        "    'list': 'Lists are used to store multiple items in a single variable. They are created by placing elements inside square brackets []',\n",
        "    'dictionary': \"Dictionaries are used to store data values in key:value pairs.\",\n",
        "    'print()': 'The print() function literally prints the result to the screen.',\n",
        "    'bool': 'A bool or boolean is either true or false.',\n",
        "    'float': 'A numerical value with a decimal component.',\n",
        "    'Arithmetic Operators': 'Arithmetic operator are used to perform common mathematical operations.',\n",
        "    'conditional statement': 'A comparison between two values.',\n",
        "}\n",
        "\n",
        "# now, we're printing the dictionary values with the definition\n",
        "# using the item function to retrieve the dictionary values\n",
        "# using the title to capitalize the first letter\n",
        "for word, definition in glossary.items():\n",
        "    print(\"\\n\" + word.title() + \": \" + definition)\n"
      ]
    }
  ]
}