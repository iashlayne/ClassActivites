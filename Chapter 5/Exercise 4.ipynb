{
  "nbformat": 4,
  "nbformat_minor": 0,
  "metadata": {
    "colab": {
      "provenance": [],
      "authorship_tag": "ABX9TyP3JmxU1VK/UuasKQbHcVrq",
      "include_colab_link": true
    },
    "kernelspec": {
      "name": "python3",
      "display_name": "Python 3"
    },
    "language_info": {
      "name": "python"
    }
  },
  "cells": [
    {
      "cell_type": "markdown",
      "metadata": {
        "id": "view-in-github",
        "colab_type": "text"
      },
      "source": [
        "<a href=\"https://colab.research.google.com/github/iashlayne/ClassActivites/blob/main/Chapter%205/Exercise%204.ipynb\" target=\"_parent\"><img src=\"https://colab.research.google.com/assets/colab-badge.svg\" alt=\"Open In Colab\"/></a>"
      ]
    },
    {
      "cell_type": "code",
      "execution_count": 4,
      "metadata": {
        "colab": {
          "base_uri": "https://localhost:8080/"
        },
        "id": "04RUAH08Wyh1",
        "outputId": "dcc103e9-d706-486d-cca0-3b95b4730ba9"
      },
      "outputs": [
        {
          "output_type": "stream",
          "name": "stdout",
          "text": [
            "The Nile River runs through Egypt.\n",
            "The Yellow River runs through China.\n",
            "The Lena runs through Russia.\n",
            "The Yangtze runs through China.\n",
            "The Amazon runs through Ecuador, Colombia, Venezuela, Bolivia, And Brazil.\n",
            "\n",
            "These rivers are included in this data set:\n",
            "- Nile River\n",
            "- Yellow River\n",
            "- Lena\n",
            "- Yangtze\n",
            "- Amazon\n",
            "\n",
            "These countries are included in this data set:\n",
            "- Egypt\n",
            "- China\n",
            "- Russia\n",
            "- China\n",
            "- Ecuador, Colombia, Venezuela, Bolivia, And Brazil\n"
          ]
        }
      ],
      "source": [
        "# Exercise 4: Rivers\n",
        "\n",
        "\n",
        "# We are storing dictionry values: rivers that runs through the countries\n",
        "rivers = {\n",
        "    'Nile River': 'Egypt',\n",
        "    'Yellow River': 'China',\n",
        "    'Lena': 'Russia',\n",
        "    'Yangtze': 'China',\n",
        "    'Amazon': 'Ecuador, Colombia, Venezuela, Bolivia, and Brazil',\n",
        "}\n",
        "\n",
        "# we are printing the dictionary values but we are using the loop function\n",
        "for river, country in rivers.items():\n",
        "    print(\"The \" + river.title() + \" runs through \" + country.title() + \".\")\n",
        "\n",
        "print(\"\\nThese rivers are included in this data set:\")\n",
        "for river in rivers.keys():\n",
        "    print(\"- \" + river.title())\n",
        "\n",
        "print(\"\\nThese countries are included in this data set:\")\n",
        "for country in rivers.values():\n",
        "    print(\"- \" + country.title())\n",
        "\n"
      ]
    }
  ]
}