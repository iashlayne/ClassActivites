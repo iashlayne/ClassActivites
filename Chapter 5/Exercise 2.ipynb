{
  "nbformat": 4,
  "nbformat_minor": 0,
  "metadata": {
    "colab": {
      "provenance": [],
      "authorship_tag": "ABX9TyPDW4IOlLrG2U/4yKaHlusZ",
      "include_colab_link": true
    },
    "kernelspec": {
      "name": "python3",
      "display_name": "Python 3"
    },
    "language_info": {
      "name": "python"
    }
  },
  "cells": [
    {
      "cell_type": "markdown",
      "metadata": {
        "id": "view-in-github",
        "colab_type": "text"
      },
      "source": [
        "<a href=\"https://colab.research.google.com/github/iashlayne/ClassActivites/blob/main/Chapter%205/Exercise%202.ipynb\" target=\"_parent\"><img src=\"https://colab.research.google.com/assets/colab-badge.svg\" alt=\"Open In Colab\"/></a>"
      ]
    },
    {
      "cell_type": "code",
      "execution_count": null,
      "metadata": {
        "id": "04RUAH08Wyh1"
      },
      "outputs": [],
      "source": [
        "# Exercise 2: Glossary\n",
        "\n",
        "# we are storing info about the five programming words we learned from previous chapter\n",
        "# Here are the five keys I have learned\n",
        "glossary = {\n",
        "    'string': 'A string is a series of characters. In Python, anything inside quotes is a string',\n",
        "    'variable': 'A Python variable is a symbolic name that is a reference or pointer to an object. Once an object is assigned to a variable, you can refer to the object by that name. But the data itself is still contained within the object.',\n",
        "    'comment': 'Comments in Python are identified with a hash symbol, #, and extend to the end of the line. They are notes in a program that the Python interpreter ignores.',\n",
        "    'list': 'Lists are used to store multiple items in a single variable. They are created by placing elements inside square brackets []',\n",
        "    'dictionary': \"Dictionaries are used to store data values in key:value pairs.\",\n",
        "}\n",
        "\n",
        "# We are printing each of the contents in the dictionary\n",
        "# Using the title string to capitalize the first character\n",
        "prog_word = 'string'\n",
        "print(\"\\n\" + prog_word.title() + \": \" + glossary[prog_word])\n",
        "\n",
        "prog_word = 'variable'\n",
        "print(\"\\n\" + prog_word.title() + \": \" + glossary[prog_word])\n",
        "\n",
        "prog_word = 'comment'\n",
        "print(\"\\n\" + prog_word.title() + \": \" + glossary[prog_word])\n",
        "\n",
        "prog_word = 'list'\n",
        "print(\"\\n\" + prog_word.title() + \": \" + glossary[prog_word])\n",
        "\n",
        "prog_word = 'dictionary'\n",
        "print(\"\\n\" + prog_word.title() + \": \" + glossary[prog_word])\n"
      ]
    }
  ]
}