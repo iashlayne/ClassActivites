{
  "nbformat": 4,
  "nbformat_minor": 0,
  "metadata": {
    "colab": {
      "provenance": [],
      "authorship_tag": "ABX9TyOsSXRjDvQWulhRaPzk0mTI",
      "include_colab_link": true
    },
    "kernelspec": {
      "name": "python3",
      "display_name": "Python 3"
    },
    "language_info": {
      "name": "python"
    }
  },
  "cells": [
    {
      "cell_type": "markdown",
      "metadata": {
        "id": "view-in-github",
        "colab_type": "text"
      },
      "source": [
        "<a href=\"https://colab.research.google.com/github/iashlayne/ClassActivites/blob/main/Chapter%205/Exercise%201.ipynb\" target=\"_parent\"><img src=\"https://colab.research.google.com/assets/colab-badge.svg\" alt=\"Open In Colab\"/></a>"
      ]
    },
    {
      "cell_type": "code",
      "execution_count": null,
      "metadata": {
        "id": "04RUAH08Wyh1"
      },
      "outputs": [],
      "source": [
        "# Exercise 1: Person\n",
        "\n",
        "\n",
        "# We are storing person's info inside the dictionary including first name, last name, age, and city\n",
        "person = {\n",
        "    'first_name': 'Iashlayne Kane',\n",
        "    'last_name': 'Medina',\n",
        "    'age': 19,\n",
        "    'city': 'Dubai',\n",
        "}\n",
        "\n",
        "#we are printing the person's information inside the dictionary\n",
        "print(person['first_name'])\n",
        "print(person['last_name'])\n",
        "print(person['age'])\n",
        "print(person['city'])\n"
      ]
    }
  ]
}