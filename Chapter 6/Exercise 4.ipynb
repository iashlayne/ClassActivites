{
  "nbformat": 4,
  "nbformat_minor": 0,
  "metadata": {
    "colab": {
      "provenance": [],
      "authorship_tag": "ABX9TyOfWPu5GSQEAPUSoAKfIj7b",
      "include_colab_link": true
    },
    "kernelspec": {
      "name": "python3",
      "display_name": "Python 3"
    },
    "language_info": {
      "name": "python"
    }
  },
  "cells": [
    {
      "cell_type": "markdown",
      "metadata": {
        "id": "view-in-github",
        "colab_type": "text"
      },
      "source": [
        "<a href=\"https://colab.research.google.com/github/iashlayne/ClassActivites/blob/main/Chapter%206/Exercise%204.ipynb\" target=\"_parent\"><img src=\"https://colab.research.google.com/assets/colab-badge.svg\" alt=\"Open In Colab\"/></a>"
      ]
    },
    {
      "cell_type": "code",
      "execution_count": 4,
      "metadata": {
        "colab": {
          "base_uri": "https://localhost:8080/"
        },
        "id": "4wwK5FXJVjEO",
        "outputId": "8371c5f0-d2ba-46de-c0b0-f085c0f7c937"
      },
      "outputs": [
        {
          "output_type": "stream",
          "name": "stdout",
          "text": [
            "Hi, Welcome to STARBUCKS!\n",
            "\n",
            "\n",
            "Here is the order, enjoy your Hotdog sandwich.\n",
            "Here is the order, enjoy your Tuna sandwich.\n",
            "Here is the order, enjoy your Egg sandwich.\n",
            "\n",
            "\n",
            "The Sandwich Orders:\n",
            "\n",
            "\n",
            "Hotdog sandwich Sandwich\n",
            "Tuna sandwich Sandwich\n",
            "Egg sandwich Sandwich\n"
          ]
        }
      ],
      "source": [
        "# Exercise 4: Deli\n",
        "\n",
        "# printing: welcome to starbucks!\n",
        "strbcks = (\"Hi, Welcome to STARBUCKS!\")\n",
        "print(strbcks)\n",
        "print(\"\\n\")\n",
        "\n",
        "# we are making a list of sandwiches\n",
        "sandwich_orders = {'Tuna sandwich','Hotdog sandwich','Egg sandwich'}\n",
        "\n",
        "# we are making an empty list: finished sandwiches\n",
        "finished_sandwiches = []\n",
        "\n",
        "# we are doing the while loop, pop list to remove elements and append to place the elements\n",
        "while sandwich_orders:\n",
        "  favorite_sandwich = sandwich_orders.pop()\n",
        "  print(\"Here is the order, enjoy your \" + favorite_sandwich + \".\")\n",
        "  finished_sandwiches.append(favorite_sandwich)\n",
        "\n",
        "#printing the sandwich orders\n",
        "print(\"\\n\")\n",
        "print('The Sandwich Orders:')\n",
        "print(\"\\n\")\n",
        "\n",
        "#we are printing the for in loop to iterate the list of sandwiches\n",
        "for sandwich in finished_sandwiches:\n",
        "  print(sandwich,'Sandwich')"
      ]
    }
  ]
}