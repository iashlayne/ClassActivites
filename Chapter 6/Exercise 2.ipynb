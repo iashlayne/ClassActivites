{
  "nbformat": 4,
  "nbformat_minor": 0,
  "metadata": {
    "colab": {
      "provenance": [],
      "authorship_tag": "ABX9TyO7m3NtIg4qb5WXbceb/rDd",
      "include_colab_link": true
    },
    "kernelspec": {
      "name": "python3",
      "display_name": "Python 3"
    },
    "language_info": {
      "name": "python"
    }
  },
  "cells": [
    {
      "cell_type": "markdown",
      "metadata": {
        "id": "view-in-github",
        "colab_type": "text"
      },
      "source": [
        "<a href=\"https://colab.research.google.com/github/iashlayne/ClassActivites/blob/main/Chapter%206/Exercise%202.ipynb\" target=\"_parent\"><img src=\"https://colab.research.google.com/assets/colab-badge.svg\" alt=\"Open In Colab\"/></a>"
      ]
    },
    {
      "cell_type": "code",
      "execution_count": 22,
      "metadata": {
        "colab": {
          "base_uri": "https://localhost:8080/"
        },
        "id": "04RUAH08Wyh1",
        "outputId": "2cde456f-b509-4691-d4cb-fea76981352e"
      },
      "outputs": [
        {
          "output_type": "stream",
          "name": "stdout",
          "text": [
            "Enter your name:yang\n",
            "What movie would you like to watch?:titanic\n",
            "How old are you?\n",
            "Enter 'quit' when you are finished. 7\n",
            "  Your ticket is $10.\n",
            "How old are you?\n",
            "Enter 'quit' when you are finished. quit\n",
            "Thank you and enjoy the movie!\n"
          ]
        }
      ],
      "source": [
        "# Exercise 2 : Movie Tickets\n",
        "\n",
        "#entering user's information such as name, movie that user wants to watch, age and quit when done\n",
        "user=str(input(\"Enter your name:\"))\n",
        "user=str(input(\"What movie would you like to watch?:\"))\n",
        "movie_ticket = \"How old are you?\"\n",
        "movie_ticket += \"\\nEnter 'quit' when you are finished. \"\n",
        "\n",
        "# we are using if-elif-elif statement and python for loops\n",
        "# movie ticket: if age is below 3 its free, elif age is below 13 $10 each and else is $15 each\n",
        "while True:\n",
        "    age = input(movie_ticket)\n",
        "    if age == 'quit':\n",
        "        break\n",
        "    age = int(age)\n",
        "\n",
        "    if age < 3:\n",
        "        print(\"  You get in free!\")\n",
        "    elif age < 13:\n",
        "        print(\"  Your ticket is $10.\")\n",
        "    else:\n",
        "        print(\"  Your ticket is $15.\")\n",
        "\n",
        "print(\"Thank you and enjoy the movie!\")\n"
      ]
    }
  ]
}