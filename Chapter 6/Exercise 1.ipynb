{
  "nbformat": 4,
  "nbformat_minor": 0,
  "metadata": {
    "colab": {
      "provenance": [],
      "authorship_tag": "ABX9TyNNuAvjxbDG7doHwSLQguEJ",
      "include_colab_link": true
    },
    "kernelspec": {
      "name": "python3",
      "display_name": "Python 3"
    },
    "language_info": {
      "name": "python"
    }
  },
  "cells": [
    {
      "cell_type": "markdown",
      "metadata": {
        "id": "view-in-github",
        "colab_type": "text"
      },
      "source": [
        "<a href=\"https://colab.research.google.com/github/iashlayne/ClassActivites/blob/main/Chapter%206/Exercise%201.ipynb\" target=\"_parent\"><img src=\"https://colab.research.google.com/assets/colab-badge.svg\" alt=\"Open In Colab\"/></a>"
      ]
    },
    {
      "cell_type": "code",
      "execution_count": 3,
      "metadata": {
        "colab": {
          "base_uri": "https://localhost:8080/"
        },
        "id": "4wwK5FXJVjEO",
        "outputId": "321f6da6-23e6-4e37-ae46-19f4ff3d6f20"
      },
      "outputs": [
        {
          "output_type": "stream",
          "name": "stdout",
          "text": [
            "Enter the pizza you'd like to order:pepperoni\n",
            "\n",
            "Which toppings do you want on your pizza?\n",
            "Enter 'quit' when you are finished: olives\n",
            "  I'll add olives to your pizza.\n",
            "\n",
            "Which toppings do you want on your pizza?\n",
            "Enter 'quit' when you are finished: ham\n",
            "  I'll add ham to your pizza.\n",
            "\n",
            "Which toppings do you want on your pizza?\n",
            "Enter 'quit' when you are finished: quit\n",
            " thank you and enjoy your pizza! \n"
          ]
        }
      ],
      "source": [
        "# Exercise 1: Pizza Toppings\n",
        "\n",
        "# user's pizza that he/she would like to order, additional toppings, and quit when done\n",
        "user=str(input(\"Enter the pizza you'd like to order:\"))\n",
        "pizza = \"\\nWhich toppings do you want on your pizza?\"\n",
        "pizza += \"\\nEnter 'quit' when you are finished: \"\n",
        "\n",
        "# we are using if-elif-else statement for user's pizza, the python for loop and we use break to stop the loop\n",
        "while True:\n",
        "    topping = input(pizza)\n",
        "    if topping != 'quit':\n",
        "        print(f\"  I'll add {topping} to your pizza.\") \n",
        "    else:\n",
        "        break\n",
        "\n",
        "print(\" thank you and enjoy your pizza! \")  "
      ]
    }
  ]
}