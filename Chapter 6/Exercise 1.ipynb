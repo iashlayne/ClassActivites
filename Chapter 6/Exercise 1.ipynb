{
  "nbformat": 4,
  "nbformat_minor": 0,
  "metadata": {
    "colab": {
      "provenance": [],
      "authorship_tag": "ABX9TyOFF9kSGqLYVuZI32cWR5Wh",
      "include_colab_link": true
    },
    "kernelspec": {
      "name": "python3",
      "display_name": "Python 3"
    },
    "language_info": {
      "name": "python"
    }
  },
  "cells": [
    {
      "cell_type": "markdown",
      "metadata": {
        "id": "view-in-github",
        "colab_type": "text"
      },
      "source": [
        "<a href=\"https://colab.research.google.com/github/iashlayne/ClassActivites/blob/main/Chapter%206/Exercise%201.ipynb\" target=\"_parent\"><img src=\"https://colab.research.google.com/assets/colab-badge.svg\" alt=\"Open In Colab\"/></a>"
      ]
    },
    {
      "cell_type": "code",
      "execution_count": null,
      "metadata": {
        "colab": {
          "base_uri": "https://localhost:8080/"
        },
        "id": "04RUAH08Wyh1",
        "outputId": "c0ed7758-285c-45e0-a8a3-090f50ca43d9"
      },
      "outputs": [
        {
          "metadata": {
            "tags": null
          },
          "name": "stdout",
          "output_type": "stream",
          "text": [
            "  I'll add ham to your pizza.\n",
            "thank you and enjoy your pizza! \n"
          ]
        }
      ],
      "source": [
        "# Exercise 1: Pizza Toppings\n",
        "# user's pizza that he/she would like to order, additional toppings, and quit when done\n",
        "user=str(input(\"Enter the pizza you'd like to order:\"))\n",
        "pizza = \"\\nWhich toppings do you want on your pizza?\"\n",
        "pizza += \"\\nEnter 'quit' when you are finished: \"\n",
        "\n",
        "# we are using if-elif-else statement for user's pizza\n",
        "while True:\n",
        "    topping = input(pizza)\n",
        "    if topping != 'quit':\n",
        "        print(f\"  I'll add {topping} to your pizza.\")\n",
        "\n",
        "    elif topping =='quit':\n",
        "        print(f\" thank you and enjoy your pizza! \")   \n",
        "    else:\n",
        "        break\n",
        "\n"
      ]
    }
  ]
}