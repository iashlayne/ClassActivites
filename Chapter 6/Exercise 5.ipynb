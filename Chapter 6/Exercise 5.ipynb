{
  "nbformat": 4,
  "nbformat_minor": 0,
  "metadata": {
    "colab": {
      "provenance": [],
      "authorship_tag": "ABX9TyNifb977WbUYujMEDcgrGQ1",
      "include_colab_link": true
    },
    "kernelspec": {
      "name": "python3",
      "display_name": "Python 3"
    },
    "language_info": {
      "name": "python"
    }
  },
  "cells": [
    {
      "cell_type": "markdown",
      "metadata": {
        "id": "view-in-github",
        "colab_type": "text"
      },
      "source": [
        "<a href=\"https://colab.research.google.com/github/iashlayne/ClassActivites/blob/main/Chapter%206/Exercise%205.ipynb\" target=\"_parent\"><img src=\"https://colab.research.google.com/assets/colab-badge.svg\" alt=\"Open In Colab\"/></a>"
      ]
    },
    {
      "cell_type": "code",
      "execution_count": null,
      "metadata": {
        "id": "jB05o7U2heGD"
      },
      "outputs": [],
      "source": [
        "# Exercise 5: No Pastrami\n",
        "\n",
        "# printing: welcome to starbucks!\n",
        "strbcks = (\"Hi, Welcome to STARBUCKS!\")\n",
        "print(strbcks)\n",
        "print(\"\\n\")\n",
        "\n",
        "# we are making a list of sandwiches\n",
        "sandwich_orders = {'pastrami_sandwich','Tuna sandwich','Hotdog sandwich','pastrami_sandwich','Egg sandwich','pastrami_sandwich'}\n",
        "\n",
        "# we are making an empty list: finished sandwiches\n",
        "finished_sandwiches = []\n",
        "\n",
        "#we are removing using the .remove because pastrami sandwich is not available\n",
        "print('We are sorry, but there are no pastrami sandwiches available today.')\n",
        "while 'pastrami_sandwich' in sandwich_orders:\n",
        "    sandwich_orders.remove('pastrami_sandwich')\n",
        "print(\"\\n\")\n",
        "\n",
        "# we are doing the while loop, pop list to remove elements and append to place the elements\n",
        "while sandwich_orders:\n",
        "  favorite_sandwich = sandwich_orders.pop()\n",
        "  print(\"I made your \" + favorite_sandwich + \".\"+ \"ENJOY!\")\n",
        "  finished_sandwiches.append(favorite_sandwich)\n",
        "\n",
        "#printing the sandwich orders\n",
        "print(\"\\n\")\n",
        "print('The Sandwich Orders:')\n",
        "print(\"\\n\")\n",
        "\n",
        "#we are printing the for in loop to iterate the list of sandwiches\n",
        "for sandwich in finished_sandwiches:\n",
        "  print(sandwich,'Sandwich')"
      ]
    }
  ]
}