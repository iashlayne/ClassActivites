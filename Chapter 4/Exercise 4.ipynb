{
  "nbformat": 4,
  "nbformat_minor": 0,
  "metadata": {
    "colab": {
      "provenance": [],
      "authorship_tag": "ABX9TyPpU8Nl9oC8Iwk0RzJZ0Bs5",
      "include_colab_link": true
    },
    "kernelspec": {
      "name": "python3",
      "display_name": "Python 3"
    },
    "language_info": {
      "name": "python"
    }
  },
  "cells": [
    {
      "cell_type": "markdown",
      "metadata": {
        "id": "view-in-github",
        "colab_type": "text"
      },
      "source": [
        "<a href=\"https://colab.research.google.com/github/iashlayne/ClassActivites/blob/main/Chapter%204/Exercise%204.ipynb\" target=\"_parent\"><img src=\"https://colab.research.google.com/assets/colab-badge.svg\" alt=\"Open In Colab\"/></a>"
      ]
    },
    {
      "cell_type": "code",
      "execution_count": 10,
      "metadata": {
        "colab": {
          "base_uri": "https://localhost:8080/"
        },
        "id": "suHbHUMVj5cb",
        "outputId": "e930a80f-94de-41c2-b4fe-dddbdbdd4ec1"
      },
      "outputs": [
        {
          "output_type": "stream",
          "name": "stdout",
          "text": [
            "Enter an age:19\n",
            "You are a teenager!\n"
          ]
        }
      ],
      "source": [
        "# Exercise 4: Stages of Life\n",
        "\n",
        "age_of_life=int(input(\"Enter an age:\"))\n",
        "\n",
        "if age_of_life < 2: \n",
        "    print(\"You are a baby!\")\n",
        "elif age_of_life < 4:\n",
        "    print(\"You are a toddler!\")\n",
        "elif age_of_life < 13:\n",
        "    print(\"You are a kid!\")\n",
        "elif age_of_life < 20:\n",
        "    print(\"You are a teenager!\")\n",
        "elif age_of_life < 65:\n",
        "    print(\"You are an adult!\")\n",
        "else:\n",
        "    print(\"You are an elder!\")\n",
        "\n",
        "\n",
        "\n",
        "\n",
        "\n",
        "\n",
        "\n",
        "\n",
        "\n",
        "\n",
        "\n",
        "\n"
      ]
    }
  ]
}