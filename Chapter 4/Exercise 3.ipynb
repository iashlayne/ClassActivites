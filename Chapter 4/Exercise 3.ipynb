{
  "nbformat": 4,
  "nbformat_minor": 0,
  "metadata": {
    "colab": {
      "provenance": [],
      "authorship_tag": "ABX9TyO+BggrVzmze5QI4qS5TYid",
      "include_colab_link": true
    },
    "kernelspec": {
      "name": "python3",
      "display_name": "Python 3"
    },
    "language_info": {
      "name": "python"
    }
  },
  "cells": [
    {
      "cell_type": "markdown",
      "metadata": {
        "id": "view-in-github",
        "colab_type": "text"
      },
      "source": [
        "<a href=\"https://colab.research.google.com/github/iashlayne/ClassActivites/blob/main/Chapter%204/Exercise%203.ipynb\" target=\"_parent\"><img src=\"https://colab.research.google.com/assets/colab-badge.svg\" alt=\"Open In Colab\"/></a>"
      ]
    },
    {
      "cell_type": "code",
      "execution_count": 4,
      "metadata": {
        "colab": {
          "base_uri": "https://localhost:8080/"
        },
        "id": "GjHJ9M3rg-M1",
        "outputId": "ba7546d8-5cab-4f82-beb6-7036bd227402"
      },
      "outputs": [
        {
          "output_type": "stream",
          "name": "stdout",
          "text": [
            "Input the alien's color:red\n",
            "You just earned 15 points!\n"
          ]
        }
      ],
      "source": [
        "# Alien Colors #3\n",
        "#If alien_color is green 5 points, elif alien_color is yellow 10 points, else alien_color is red or any other color is 15 points\n",
        "\n",
        "alien_color=str(input(\"Input the alien's color:\"))\n",
        "\n",
        "if alien_color == 'green':\n",
        "    print(\"You just earned 5 points!\")\n",
        "\n",
        "elif alien_color == 'yellow':\n",
        "   print(\"You just earned 10 points!\")\n",
        "\n",
        "else:\n",
        "    print(\"You just earned 15 points!\")"
      ]
    }
  ]
}