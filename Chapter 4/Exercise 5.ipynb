{
  "nbformat": 4,
  "nbformat_minor": 0,
  "metadata": {
    "colab": {
      "provenance": [],
      "authorship_tag": "ABX9TyN2MNXYrF+oWzHY/euYHWEI",
      "include_colab_link": true
    },
    "kernelspec": {
      "name": "python3",
      "display_name": "Python 3"
    },
    "language_info": {
      "name": "python"
    }
  },
  "cells": [
    {
      "cell_type": "markdown",
      "metadata": {
        "id": "view-in-github",
        "colab_type": "text"
      },
      "source": [
        "<a href=\"https://colab.research.google.com/github/iashlayne/ClassActivites/blob/main/Chapter%204/Exercise%205.ipynb\" target=\"_parent\"><img src=\"https://colab.research.google.com/assets/colab-badge.svg\" alt=\"Open In Colab\"/></a>"
      ]
    },
    {
      "cell_type": "code",
      "execution_count": 11,
      "metadata": {
        "colab": {
          "base_uri": "https://localhost:8080/"
        },
        "id": "suHbHUMVj5cb",
        "outputId": "c62f32bc-45e8-42a1-fb81-e86a2d894daf"
      },
      "outputs": [
        {
          "output_type": "stream",
          "name": "stdout",
          "text": [
            "You really like mango!\n",
            "You really like watermelon!\n",
            "You really like strawberries!\n"
          ]
        }
      ],
      "source": [
        "# Exercise 5: Favorite Fruit\n",
        "\n",
        "# we are doing the series of independent if statements that check for certain fruits in your list.\n",
        "favorite_fruits = ['watermelon', 'strawberries', 'mango']\n",
        "\n",
        "if 'avocados' in favorite_fruits:\n",
        "    print(\"You really like avocados!\")\n",
        "if 'mango' in favorite_fruits:\n",
        "    print(\"You really like mango!\")\n",
        "if 'apples' in favorite_fruits:\n",
        "    print(\"You really like apples!\")\n",
        "if 'watermelon' in favorite_fruits:\n",
        "    print(\"You really like watermelon!\")\n",
        "if 'strawberries' in favorite_fruits:\n",
        "    print(\"You really like strawberries!\")\n",
        "\n",
        "\n",
        "\n",
        "\n",
        "\n",
        "\n",
        "\n",
        "\n",
        "\n",
        "\n",
        "\n"
      ]
    }
  ]
}