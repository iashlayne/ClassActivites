{
  "nbformat": 4,
  "nbformat_minor": 0,
  "metadata": {
    "colab": {
      "provenance": [],
      "authorship_tag": "ABX9TyMdpGKbb9M4jtqdUsLn7dJr",
      "include_colab_link": true
    },
    "kernelspec": {
      "name": "python3",
      "display_name": "Python 3"
    },
    "language_info": {
      "name": "python"
    }
  },
  "cells": [
    {
      "cell_type": "markdown",
      "metadata": {
        "id": "view-in-github",
        "colab_type": "text"
      },
      "source": [
        "<a href=\"https://colab.research.google.com/github/iashlayne/ClassActivites/blob/main/Chapter%204/Exercise%201.ipynb\" target=\"_parent\"><img src=\"https://colab.research.google.com/assets/colab-badge.svg\" alt=\"Open In Colab\"/></a>"
      ]
    },
    {
      "cell_type": "code",
      "execution_count": 2,
      "metadata": {
        "colab": {
          "base_uri": "https://localhost:8080/"
        },
        "id": "GjHJ9M3rg-M1",
        "outputId": "11030e69-8dbb-41a0-cb29-9583caa2c6c2"
      },
      "outputs": [
        {
          "output_type": "stream",
          "name": "stdout",
          "text": [
            "Shoot an alien: green\n",
            "You just earned 5 points!:>\n"
          ]
        }
      ],
      "source": [
        "alien_color = str(input(\"Shoot an alien: \"))\n",
        "\n",
        "if alien_color.upper() == \"GREEN\":\n",
        "  print(\"You just earned 5 points!:>\")\n",
        "\n",
        "else:\n",
        "  print(\"Error, no output :<..try again, type color green?\")"
      ]
    }
  ]
}