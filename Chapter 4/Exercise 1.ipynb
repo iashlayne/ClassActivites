{
  "nbformat": 4,
  "nbformat_minor": 0,
  "metadata": {
    "colab": {
      "provenance": [],
      "authorship_tag": "ABX9TyMzXkkO/PV9EDxTj+MjL/lf",
      "include_colab_link": true
    },
    "kernelspec": {
      "name": "python3",
      "display_name": "Python 3"
    },
    "language_info": {
      "name": "python"
    }
  },
  "cells": [
    {
      "cell_type": "markdown",
      "metadata": {
        "id": "view-in-github",
        "colab_type": "text"
      },
      "source": [
        "<a href=\"https://colab.research.google.com/github/iashlayne/ClassActivites/blob/main/Chapter%204/Exercise%201.ipynb\" target=\"_parent\"><img src=\"https://colab.research.google.com/assets/colab-badge.svg\" alt=\"Open In Colab\"/></a>"
      ]
    },
    {
      "cell_type": "code",
      "execution_count": 3,
      "metadata": {
        "colab": {
          "base_uri": "https://localhost:8080/"
        },
        "id": "suHbHUMVj5cb",
        "outputId": "be9781b6-7f2f-47fe-fad9-4374124e7d9a"
      },
      "outputs": [
        {
          "output_type": "stream",
          "name": "stdout",
          "text": [
            "Shoot an alien: green\n",
            "You just earned 5 points!:>\n"
          ]
        }
      ],
      "source": [
        "#Exercise 1: Alien Colors #1\n",
        "alien_color = str(input(\"Shoot an alien: \"))\n",
        "\n",
        "if alien_color.upper() == \"GREEN\":\n",
        "  print(\"You just earned 5 points!:>\")\n",
        "\n",
        "else:\n",
        "  print(\"Error, no output :<..try again, type color green?\")"
      ]
    }
  ]
}