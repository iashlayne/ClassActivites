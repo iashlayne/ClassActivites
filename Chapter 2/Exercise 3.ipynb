{
  "nbformat": 4,
  "nbformat_minor": 0,
  "metadata": {
    "colab": {
      "provenance": [],
      "authorship_tag": "ABX9TyMwRIrxwJztnTN8ELkd/cjV",
      "include_colab_link": true
    },
    "kernelspec": {
      "name": "python3",
      "display_name": "Python 3"
    },
    "language_info": {
      "name": "python"
    }
  },
  "cells": [
    {
      "cell_type": "markdown",
      "metadata": {
        "id": "view-in-github",
        "colab_type": "text"
      },
      "source": [
        "<a href=\"https://colab.research.google.com/github/iashlayne/ClassActivites/blob/main/Chapter%202/Exercise%203.ipynb\" target=\"_parent\"><img src=\"https://colab.research.google.com/assets/colab-badge.svg\" alt=\"Open In Colab\"/></a>"
      ]
    },
    {
      "cell_type": "code",
      "execution_count": 2,
      "metadata": {
        "colab": {
          "base_uri": "https://localhost:8080/"
        },
        "id": "8VsxwYTJ4YAr",
        "outputId": "b5aa58f1-e088-4184-99f1-d78c6b691df3"
      },
      "outputs": [
        {
          "output_type": "stream",
          "name": "stdout",
          "text": [
            "My favorite number is 5!\n"
          ]
        }
      ],
      "source": [
        "# Exercise 4: Favorite Number\n",
        "\n",
        "\n",
        "myFavNum = 5\n",
        "message_fav = \"My favorite number is \" + str(myFavNum) + \"!\"\n",
        "print(message_fav)\n"
      ]
    }
  ]
}