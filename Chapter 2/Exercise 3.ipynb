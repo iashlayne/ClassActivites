{
  "nbformat": 4,
  "nbformat_minor": 0,
  "metadata": {
    "colab": {
      "provenance": [],
      "authorship_tag": "ABX9TyMSFfvJIZU2NerxtzM63LNa",
      "include_colab_link": true
    },
    "kernelspec": {
      "name": "python3",
      "display_name": "Python 3"
    },
    "language_info": {
      "name": "python"
    }
  },
  "cells": [
    {
      "cell_type": "markdown",
      "metadata": {
        "id": "view-in-github",
        "colab_type": "text"
      },
      "source": [
        "<a href=\"https://colab.research.google.com/github/iashlayne/ClassActivites/blob/main/Chapter%202/Exercise%203.ipynb\" target=\"_parent\"><img src=\"https://colab.research.google.com/assets/colab-badge.svg\" alt=\"Open In Colab\"/></a>"
      ]
    },
    {
      "cell_type": "code",
      "execution_count": null,
      "metadata": {
        "id": "nbkTDmxUBt12"
      },
      "outputs": [],
      "source": [
        "#Exercise 2 - Stripping Names of Leonardo DiCaprio\n",
        "name = \"\\tLeonardo DiCaprio\\n\"\n",
        "\n",
        "print(\"Standard:\")\n",
        "print(name)\n",
        "\n",
        "print(\"\\nTesting lstrip():\")\n",
        "print(name.lstrip())\n",
        "\n",
        "print(\"\\nTesting rstrip():\")\n",
        "print(name.rstrip())\n",
        "\n",
        "print(\"\\nTesting strip():\")\n",
        "print(name.strip())"
      ]
    }
  ]
}