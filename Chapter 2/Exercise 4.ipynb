{
  "nbformat": 4,
  "nbformat_minor": 0,
  "metadata": {
    "colab": {
      "provenance": [],
      "authorship_tag": "ABX9TyNgxFUyPYYy3m0qxjO/wJwC",
      "include_colab_link": true
    },
    "kernelspec": {
      "name": "python3",
      "display_name": "Python 3"
    },
    "language_info": {
      "name": "python"
    }
  },
  "cells": [
    {
      "cell_type": "markdown",
      "metadata": {
        "id": "view-in-github",
        "colab_type": "text"
      },
      "source": [
        "<a href=\"https://colab.research.google.com/github/iashlayne/ClassActivites/blob/main/Chapter%202/Exercise%204.ipynb\" target=\"_parent\"><img src=\"https://colab.research.google.com/assets/colab-badge.svg\" alt=\"Open In Colab\"/></a>"
      ]
    },
    {
      "cell_type": "code",
      "execution_count": null,
      "metadata": {
        "colab": {
          "base_uri": "https://localhost:8080/"
        },
        "id": "A5weEeWZD6Ce",
        "outputId": "4d9aeb89-721f-466b-b5c4-8e68efee3c07"
      },
      "outputs": [
        {
          "output_type": "stream",
          "name": "stdout",
          "text": [
            "My favorite number is 25!\n"
          ]
        }
      ],
      "source": [
        "# Exercise 4: Favorite Number of Iashlayne\n",
        "\n",
        "myFavNum = 25\n",
        "message1 = \"My favorite number is \" + str(myFavNum) + \"!\"\n",
        "print(message1)\n"
      ]
    }
  ]
}