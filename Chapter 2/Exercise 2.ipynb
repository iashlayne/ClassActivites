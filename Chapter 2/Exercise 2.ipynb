{
  "nbformat": 4,
  "nbformat_minor": 0,
  "metadata": {
    "colab": {
      "provenance": [],
      "authorship_tag": "ABX9TyMnknw67OGIEQQzozoU8w7w",
      "include_colab_link": true
    },
    "kernelspec": {
      "name": "python3",
      "display_name": "Python 3"
    },
    "language_info": {
      "name": "python"
    }
  },
  "cells": [
    {
      "cell_type": "markdown",
      "metadata": {
        "id": "view-in-github",
        "colab_type": "text"
      },
      "source": [
        "<a href=\"https://colab.research.google.com/github/iashlayne/ClassActivites/blob/main/Chapter%202/Exercise%202.ipynb\" target=\"_parent\"><img src=\"https://colab.research.google.com/assets/colab-badge.svg\" alt=\"Open In Colab\"/></a>"
      ]
    },
    {
      "cell_type": "code",
      "execution_count": 2,
      "metadata": {
        "colab": {
          "base_uri": "https://localhost:8080/"
        },
        "id": "UQ0hSrTmBlLc",
        "outputId": "53af9669-86b8-4f86-9a5e-ca07a4d3c806"
      },
      "outputs": [
        {
          "output_type": "stream",
          "name": "stdout",
          "text": [
            "Princess Diana once said \"Carry out a random act of kindness, with no expectation of reward\n",
            "safe in the knowledge that one day someone might do the same for you.\"\n"
          ]
        }
      ],
      "source": [
        "print('Princess Diana once said \"Carry out a random act of kindness, with no expectation of reward')\n",
        "print('safe in the knowledge that one day someone might do the same for you.\"')"
      ]
    }
  ]
}