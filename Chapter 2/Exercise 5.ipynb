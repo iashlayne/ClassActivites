{
  "nbformat": 4,
  "nbformat_minor": 0,
  "metadata": {
    "colab": {
      "provenance": [],
      "authorship_tag": "ABX9TyN5vwnRoVWAU/F7SMyKDRJi",
      "include_colab_link": true
    },
    "kernelspec": {
      "name": "python3",
      "display_name": "Python 3"
    },
    "language_info": {
      "name": "python"
    }
  },
  "cells": [
    {
      "cell_type": "markdown",
      "metadata": {
        "id": "view-in-github",
        "colab_type": "text"
      },
      "source": [
        "<a href=\"https://colab.research.google.com/github/iashlayne/ClassActivites/blob/main/Chapter%202/Exercise%205.ipynb\" target=\"_parent\"><img src=\"https://colab.research.google.com/assets/colab-badge.svg\" alt=\"Open In Colab\"/></a>"
      ]
    },
    {
      "cell_type": "code",
      "execution_count": 2,
      "metadata": {
        "colab": {
          "base_uri": "https://localhost:8080/"
        },
        "id": "nbkTDmxUBt12",
        "outputId": "b3bd2298-1096-4e4e-ee06-302a3a7ae40f"
      },
      "outputs": [
        {
          "output_type": "stream",
          "name": "stdout",
          "text": [
            "A girl heads to a computer shop to buy some USB sticks. She loves USB sticks and wants as many as she can get for £50. They are £6 each.\n",
            "\n",
            "This program calculated that the girl can buy 8 USB Sticks and she will have a change of £2 out of her £50.\n"
          ]
        }
      ],
      "source": [
        "# Exercise 5: USB Shopper using Arithmetic Operators\n",
        "\n",
        "totalCash = 50\n",
        "pricePerUSB = 6\n",
        "\n",
        "#dividing 50 by 6\n",
        "pcsPurchased = totalCash // pricePerUSB\n",
        "\n",
        "#Converting to string\n",
        "strProblem = \"A girl heads to a computer shop to buy some USB sticks. She loves USB sticks and wants as many as she can get for £\" + \\\n",
        "    str(totalCash) + \". They are £\" + str(pricePerUSB) + \" each.\\n\"\n",
        "print(strProblem)\n",
        "\n",
        "#Calculating the change\n",
        "balance = totalCash - (pcsPurchased * pricePerUSB)\n",
        "print(\"This program calculated that the girl can buy \" + str(pcsPurchased) +\n",
        "      \" USB Sticks and she will have a change of £\" + str(balance) + \" out of her £\" + str(totalCash) + \".\")"
      ]
    }
  ]
}