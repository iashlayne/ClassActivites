{
  "nbformat": 4,
  "nbformat_minor": 0,
  "metadata": {
    "colab": {
      "provenance": [],
      "authorship_tag": "ABX9TyMTk+uLG9juRM9ryvL2tjDn",
      "include_colab_link": true
    },
    "kernelspec": {
      "name": "python3",
      "display_name": "Python 3"
    },
    "language_info": {
      "name": "python"
    }
  },
  "cells": [
    {
      "cell_type": "markdown",
      "metadata": {
        "id": "view-in-github",
        "colab_type": "text"
      },
      "source": [
        "<a href=\"https://colab.research.google.com/github/iashlayne/ClassActivites/blob/main/Chapter%202/Exercise_3.ipynb\" target=\"_parent\"><img src=\"https://colab.research.google.com/assets/colab-badge.svg\" alt=\"Open In Colab\"/></a>"
      ]
    },
    {
      "cell_type": "code",
      "execution_count": 5,
      "metadata": {
        "colab": {
          "base_uri": "https://localhost:8080/"
        },
        "id": "A5weEeWZD6Ce",
        "outputId": "6dfdf0f9-8f57-4f13-a6d0-82dc332ae7e6"
      },
      "outputs": [
        {
          "output_type": "stream",
          "name": "stdout",
          "text": [
            "Standard:\n",
            "\tLeonardo DiCaprio\n",
            "\n",
            "\n",
            "Testing lstrip():\n",
            "Leonardo DiCaprio\n",
            "\n",
            "\n",
            "Testing rstrip():\n",
            "\tLeonardo DiCaprio\n",
            "\n",
            "Testing strip():\n",
            "Leonardo DiCaprio\n"
          ]
        }
      ],
      "source": [
        "name = \"\\tLeonardo DiCaprio\\n\"\n",
        "\n",
        "print(\"Standard:\")\n",
        "print(name)\n",
        "\n",
        "print(\"\\nTesting lstrip():\")\n",
        "print(name.lstrip())\n",
        "\n",
        "print(\"\\nTesting rstrip():\")\n",
        "print(name.rstrip())\n",
        "\n",
        "print(\"\\nTesting strip():\")\n",
        "print(name.strip())"
      ]
    }
  ]
}