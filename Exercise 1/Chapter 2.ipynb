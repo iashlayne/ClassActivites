{
  "nbformat": 4,
  "nbformat_minor": 0,
  "metadata": {
    "colab": {
      "provenance": [],
      "authorship_tag": "ABX9TyMBiwVuDS5j6GNyjQBAwYvs",
      "include_colab_link": true
    },
    "kernelspec": {
      "name": "python3",
      "display_name": "Python 3"
    },
    "language_info": {
      "name": "python"
    }
  },
  "cells": [
    {
      "cell_type": "markdown",
      "metadata": {
        "id": "view-in-github",
        "colab_type": "text"
      },
      "source": [
        "<a href=\"https://colab.research.google.com/github/iashlayne/ClassActivites/blob/main/Exercise%201/Chapter%202.ipynb\" target=\"_parent\"><img src=\"https://colab.research.google.com/assets/colab-badge.svg\" alt=\"Open In Colab\"/></a>"
      ]
    },
    {
      "cell_type": "code",
      "execution_count": 5,
      "metadata": {
        "colab": {
          "base_uri": "https://localhost:8080/"
        },
        "id": "TV6Pwn_H_dEa",
        "outputId": "f059ce26-8325-4580-cfd7-5930569a983f"
      },
      "outputs": [
        {
          "output_type": "stream",
          "name": "stdout",
          "text": [
            "Phython helps me to understand the computer language.\n",
            "I am enjoying this course\n"
          ]
        }
      ],
      "source": [
        "message = \"Phython helps me to understand the computer language.\"\n",
        "print(message)\n",
        "\n",
        "message = \"I am enjoying this course.\"\n",
        "print(message)"
      ]
    }
  ]
}