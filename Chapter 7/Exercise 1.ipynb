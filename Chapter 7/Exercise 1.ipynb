{
  "nbformat": 4,
  "nbformat_minor": 0,
  "metadata": {
    "colab": {
      "provenance": [],
      "authorship_tag": "ABX9TyOTVfzWwCbDtJfmt9/SdpRK",
      "include_colab_link": true
    },
    "kernelspec": {
      "name": "python3",
      "display_name": "Python 3"
    },
    "language_info": {
      "name": "python"
    }
  },
  "cells": [
    {
      "cell_type": "markdown",
      "metadata": {
        "id": "view-in-github",
        "colab_type": "text"
      },
      "source": [
        "<a href=\"https://colab.research.google.com/github/iashlayne/ClassActivites/blob/main/Chapter%207/Exercise%201.ipynb\" target=\"_parent\"><img src=\"https://colab.research.google.com/assets/colab-badge.svg\" alt=\"Open In Colab\"/></a>"
      ]
    },
    {
      "cell_type": "code",
      "execution_count": 2,
      "metadata": {
        "colab": {
          "base_uri": "https://localhost:8080/"
        },
        "id": "MVTJpF5Gpjpr",
        "outputId": "4237ce2b-a4bb-4e76-d1c9-8c98195a5ad0"
      },
      "outputs": [
        {
          "output_type": "stream",
          "name": "stdout",
          "text": [
            "I am learning about this chapter to make our own function\n"
          ]
        }
      ],
      "source": [
        "#Exercise 1: Message\n",
        "# We are making our own function using def(defining)\n",
        "\n",
        "def display_message():\n",
        "  print(\"I am learning about this chapter to make our own function\")\n",
        "display_message()"
      ]
    }
  ]
}