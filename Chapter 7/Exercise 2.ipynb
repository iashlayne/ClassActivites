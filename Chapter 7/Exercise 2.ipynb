{
  "nbformat": 4,
  "nbformat_minor": 0,
  "metadata": {
    "colab": {
      "provenance": [],
      "authorship_tag": "ABX9TyMwrr9VygPJ71DuD6eGXv00",
      "include_colab_link": true
    },
    "kernelspec": {
      "name": "python3",
      "display_name": "Python 3"
    },
    "language_info": {
      "name": "python"
    }
  },
  "cells": [
    {
      "cell_type": "markdown",
      "metadata": {
        "id": "view-in-github",
        "colab_type": "text"
      },
      "source": [
        "<a href=\"https://colab.research.google.com/github/iashlayne/ClassActivites/blob/main/Chapter%207/Exercise%202.ipynb\" target=\"_parent\"><img src=\"https://colab.research.google.com/assets/colab-badge.svg\" alt=\"Open In Colab\"/></a>"
      ]
    },
    {
      "cell_type": "code",
      "execution_count": 3,
      "metadata": {
        "colab": {
          "base_uri": "https://localhost:8080/"
        },
        "id": "MVTJpF5Gpjpr",
        "outputId": "fd82d42b-cbb9-4765-b610-52516620ba5e"
      },
      "outputs": [
        {
          "output_type": "stream",
          "name": "stdout",
          "text": [
            "One of my favorite books is Alice In Wonderland\n"
          ]
        }
      ],
      "source": [
        "#Exercise 2: Favorite Book\n",
        "#function def with parameter to display my favorite book, using .title()to capitalize the first letter\n",
        "\n",
        "def favorite_book(books):\n",
        "  print(f\"One of my favorite books is {books.title()}\")\n",
        "favorite_book('Alice in Wonderland')"
      ]
    }
  ]
}