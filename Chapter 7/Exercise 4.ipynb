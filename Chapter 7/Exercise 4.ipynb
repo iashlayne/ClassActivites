{
  "nbformat": 4,
  "nbformat_minor": 0,
  "metadata": {
    "colab": {
      "provenance": [],
      "authorship_tag": "ABX9TyOHL/vUHQ78/XRvR3WLm1tV",
      "include_colab_link": true
    },
    "kernelspec": {
      "name": "python3",
      "display_name": "Python 3"
    },
    "language_info": {
      "name": "python"
    }
  },
  "cells": [
    {
      "cell_type": "markdown",
      "metadata": {
        "id": "view-in-github",
        "colab_type": "text"
      },
      "source": [
        "<a href=\"https://colab.research.google.com/github/iashlayne/ClassActivites/blob/main/Chapter%207/Exercise%204.ipynb\" target=\"_parent\"><img src=\"https://colab.research.google.com/assets/colab-badge.svg\" alt=\"Open In Colab\"/></a>"
      ]
    },
    {
      "cell_type": "code",
      "execution_count": 11,
      "metadata": {
        "colab": {
          "base_uri": "https://localhost:8080/"
        },
        "id": "MVTJpF5Gpjpr",
        "outputId": "a5d38c44-76f6-4cbc-9a43-9c877d4e8be7"
      },
      "outputs": [
        {
          "output_type": "stream",
          "name": "stdout",
          "text": [
            "Let's make a Programming Shirt!\n",
            "\n",
            "\n",
            "\n",
            "|I will be making a large t-shirt.\n",
            "->It would be, \"I love Python<3\"\n",
            "\n",
            "|I will be making a medium t-shirt.\n",
            "->It would be, \"I love Python<3\"\n",
            "\n",
            "|I will be making a small t-shirt.\n",
            "->It would be, \"Python is fun:>\"\n"
          ]
        }
      ],
      "source": [
        "#Exercise 4: Large T-Shirt\n",
        "\n",
        "print(\"Let's make a Programming Shirt!\")\n",
        "print('\\n')\n",
        "\n",
        "# we are using def function(defining to make a tshirt that says I Love Python in large and medium)\n",
        "def make_shirt(size='large', sentence='I love Python<3'):\n",
        "    print(f\"\\n|I will be making a {size} t-shirt.\")\n",
        "    print(f'->It would be, \"{sentence}\"')\n",
        "\n",
        "#here we are doing for the medium still says I love Python\n",
        "make_shirt()\n",
        "make_shirt(size='medium')\n",
        "\n",
        "#for small I did Python is fun\n",
        "make_shirt('small', 'Python is fun:>')"
      ]
    }
  ]
}