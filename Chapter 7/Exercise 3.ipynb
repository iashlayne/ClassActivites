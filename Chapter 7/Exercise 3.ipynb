{
  "nbformat": 4,
  "nbformat_minor": 0,
  "metadata": {
    "colab": {
      "provenance": [],
      "authorship_tag": "ABX9TyMxYwC/MPoqOrXw7uis96QZ",
      "include_colab_link": true
    },
    "kernelspec": {
      "name": "python3",
      "display_name": "Python 3"
    },
    "language_info": {
      "name": "python"
    }
  },
  "cells": [
    {
      "cell_type": "markdown",
      "metadata": {
        "id": "view-in-github",
        "colab_type": "text"
      },
      "source": [
        "<a href=\"https://colab.research.google.com/github/iashlayne/ClassActivites/blob/main/Chapter%207/Exercise%203.ipynb\" target=\"_parent\"><img src=\"https://colab.research.google.com/assets/colab-badge.svg\" alt=\"Open In Colab\"/></a>"
      ]
    },
    {
      "cell_type": "code",
      "execution_count": 7,
      "metadata": {
        "colab": {
          "base_uri": "https://localhost:8080/"
        },
        "id": "jF5G31ceS0Ek",
        "outputId": "2564b15c-356b-4d0e-a36e-3078f631a1d5"
      },
      "outputs": [
        {
          "output_type": "stream",
          "name": "stdout",
          "text": [
            "Let's make a Programming Shirt <3\n",
            "\n",
            "\n",
            "\n",
            "|I will be making a LARGE t-shirt.\n",
            "\n",
            "->It would be, Python is the easiest among other programming.\n",
            "\n",
            "|I will be making a MeDiUm t-shirt.\n",
            "\n",
            "->It would be, Python makes programmers life easy.\n"
          ]
        }
      ],
      "source": [
        "# Exercise 3: T-shirt\n",
        "print(\"Let's make a Programming Shirt <3\")\n",
        "print('\\n')\n",
        "#we are using the def(defining) function to make a programming shirt including size and sentence\n",
        "def make_shirt(size, sentence):\n",
        "    print(f\"\\n|I will be making a {size} t-shirt.\")\n",
        "    print(f\"\\n->It would be, {sentence}\")\n",
        "\n",
        "#We are calling the def function, inputing what would be the size and sentence of each shirt\n",
        "make_shirt('LARGE','Python is the easiest among other programming.')\n",
        "make_shirt(size= 'MeDiUm', sentence='Python makes programmers life easy.')"
      ]
    }
  ]
}