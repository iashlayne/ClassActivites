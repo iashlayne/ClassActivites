{
  "nbformat": 4,
  "nbformat_minor": 0,
  "metadata": {
    "colab": {
      "provenance": [],
      "authorship_tag": "ABX9TyPxF0ar/KPKdGN6C86+MQ/y",
      "include_colab_link": true
    },
    "kernelspec": {
      "name": "python3",
      "display_name": "Python 3"
    },
    "language_info": {
      "name": "python"
    }
  },
  "cells": [
    {
      "cell_type": "markdown",
      "metadata": {
        "id": "view-in-github",
        "colab_type": "text"
      },
      "source": [
        "<a href=\"https://colab.research.google.com/github/iashlayne/ClassActivites/blob/main/Chapter%207/Exercise%205.ipynb\" target=\"_parent\"><img src=\"https://colab.research.google.com/assets/colab-badge.svg\" alt=\"Open In Colab\"/></a>"
      ]
    },
    {
      "cell_type": "code",
      "execution_count": 5,
      "metadata": {
        "colab": {
          "base_uri": "https://localhost:8080/"
        },
        "id": "xMErsAlAVKTU",
        "outputId": "74ca15dd-06f1-4f37-e727-3c260a975c1e"
      },
      "outputs": [
        {
          "output_type": "stream",
          "name": "stdout",
          "text": [
            "The three different cities\n",
            "Dubai is in United Arab Emirates.\n",
            "Reykjavik is in Iceland.\n",
            "Sharjah is in United Arab Emirates.\n"
          ]
        }
      ],
      "source": [
        "# Exercise 5: Cities\n",
        "\n",
        "#Just adding a heading/title\n",
        "print('The three different cities')\n",
        "print('\\n')\n",
        "# we are defining the function, this function accepts an argument or parameters with default value for country\n",
        "def describe_city(city, country='United Arab Emirates'):\n",
        "    sentence = city.title() + \" is in \" + country.title() + \".\"\n",
        "    print(sentence)\n",
        "\n",
        "\n",
        "# we are calling the function with different city, and 2nd is changing both parameters\n",
        "describe_city('Dubai')\n",
        "describe_city('reykjavik', 'iceland')\n",
        "describe_city('Sharjah')"
      ]
    }
  ]
}